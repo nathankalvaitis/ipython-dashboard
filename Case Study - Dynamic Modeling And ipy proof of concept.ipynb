{
 "cells": [
  {
   "cell_type": "code",
   "execution_count": 2,
   "id": "0c1575b0",
   "metadata": {},
   "outputs": [
    {
     "data": {
      "application/vnd.jupyter.widget-view+json": {
       "model_id": "43c0592514a44ec4940bc8007125205a",
       "version_major": 2,
       "version_minor": 0
      },
      "text/plain": [
       "DatePicker(value=None, description='Start Training:')"
      ]
     },
     "metadata": {},
     "output_type": "display_data"
    },
    {
     "data": {
      "application/vnd.jupyter.widget-view+json": {
       "model_id": "55d13f90c9714874bc4a21e65535ebc6",
       "version_major": 2,
       "version_minor": 0
      },
      "text/plain": [
       "DatePicker(value=None, description='End Training:')"
      ]
     },
     "metadata": {},
     "output_type": "display_data"
    },
    {
     "data": {
      "application/vnd.jupyter.widget-view+json": {
       "model_id": "ab000f9049ed4b8bbb756ac61b5b050e",
       "version_major": 2,
       "version_minor": 0
      },
      "text/plain": [
       "DatePicker(value=None, description='Start Test:')"
      ]
     },
     "metadata": {},
     "output_type": "display_data"
    },
    {
     "data": {
      "application/vnd.jupyter.widget-view+json": {
       "model_id": "6d73ad82961e40008779e5c8e94d8312",
       "version_major": 2,
       "version_minor": 0
      },
      "text/plain": [
       "DatePicker(value=None, description='End Test:')"
      ]
     },
     "metadata": {},
     "output_type": "display_data"
    },
    {
     "data": {
      "application/vnd.jupyter.widget-view+json": {
       "model_id": "27ba092ec0e649d594dc4978eb5bea9d",
       "version_major": 2,
       "version_minor": 0
      },
      "text/plain": [
       "SelectMultiple(description='Days of Week:', options=('Monday', 'Tuesday', 'Wednesday', 'Thursday', 'Friday', '…"
      ]
     },
     "metadata": {},
     "output_type": "display_data"
    },
    {
     "data": {
      "application/vnd.jupyter.widget-view+json": {
       "model_id": "acc860136e2947e69c2f6bb5f2078561",
       "version_major": 2,
       "version_minor": 0
      },
      "text/plain": [
       "SelectMultiple(description='Hours of Day:', options=(0, 1, 2, 3, 4, 5, 6, 7, 8, 9, 10, 11, 12, 13, 14, 15, 16,…"
      ]
     },
     "metadata": {},
     "output_type": "display_data"
    },
    {
     "data": {
      "application/vnd.jupyter.widget-view+json": {
       "model_id": "59189020127348399fef740fe2cdaca7",
       "version_major": 2,
       "version_minor": 0
      },
      "text/plain": [
       "SelectMultiple(description='Load Type:', options=('Light_Load', 'Medium_Load', 'Maximum_Load'), value=())"
      ]
     },
     "metadata": {},
     "output_type": "display_data"
    },
    {
     "data": {
      "application/vnd.jupyter.widget-view+json": {
       "model_id": "0920a660a37f4b3392f65e7137402fae",
       "version_major": 2,
       "version_minor": 0
      },
      "text/plain": [
       "Button(description='Run', style=ButtonStyle())"
      ]
     },
     "metadata": {},
     "output_type": "display_data"
    },
    {
     "data": {
      "application/vnd.jupyter.widget-view+json": {
       "model_id": "dcb8296721b2458487e06abdb775f748",
       "version_major": 2,
       "version_minor": 0
      },
      "text/plain": [
       "Output()"
      ]
     },
     "metadata": {},
     "output_type": "display_data"
    }
   ],
   "source": [
    "import pandas as pd\n",
    "import matplotlib.pyplot as plt\n",
    "import seaborn as sns\n",
    "from statsmodels.tsa.holtwinters import ExponentialSmoothing\n",
    "from sklearn.metrics import mean_squared_error, mean_absolute_error\n",
    "import ipywidgets as widgets\n",
    "from IPython.display import display\n",
    "\n",
    "url = 'https://raw.githubusercontent.com/nathankalvaitis/ipython-dashboard/main/Steel_industry_data.csv'\n",
    "\n",
    "data = pd.read_csv(url)\n",
    "\n",
    "data.head()\n",
    "\n",
    "data['date'] = pd.to_datetime(data['date'], format='%d/%m/%Y %H:%M')\n",
    "data.set_index('date', inplace=True)\n",
    "\n",
    "data = data.asfreq('15T')\n",
    "\n",
    "data['DayOfWeek'] = data.index.day_name()\n",
    "data['HourOfDay'] = data.index.hour\n",
    "\n",
    "# Create the widgets\n",
    "start_training = widgets.DatePicker(description='Start Training:', disabled=False)\n",
    "end_training = widgets.DatePicker(description='End Training:', disabled=False)\n",
    "start_test = widgets.DatePicker(description='Start Test:', disabled=False)\n",
    "end_test = widgets.DatePicker(description='End Test:', disabled=False)\n",
    "days_of_week = widgets.SelectMultiple(options=['Monday', 'Tuesday', 'Wednesday', 'Thursday', 'Friday', 'Saturday', 'Sunday'], description='Days of Week:')\n",
    "hours_of_day = widgets.SelectMultiple(options=list(range(24)), description='Hours of Day:')\n",
    "load_type = widgets.SelectMultiple(options=['Light_Load', 'Medium_Load', 'Maximum_Load'], description='Load Type:')\n",
    "run_button = widgets.Button(description='Run')\n",
    "\n",
    "def filter_and_plot(start_training, end_training, start_test, end_test, days_of_week, hours_of_day, load_type):\n",
    "    \n",
    "    train = data.loc[start_training:end_training]\n",
    "    test = data.loc[start_test:end_test]\n",
    "    \n",
    "    model = ExponentialSmoothing(train['Usage_kWh'], seasonal='add', seasonal_periods=96*7).fit()\n",
    "\n",
    "    \n",
    "    predictions = model.predict(start=test.index[0], end=test.index[-1])\n",
    "\n",
    "    # Ensure predictions do not go below the minimum value observed in the training data\n",
    "    min_value = train['Usage_kWh'].min()\n",
    "    predictions = predictions.clip(lower=min_value)\n",
    "    \n",
    "    predictions = pd.DataFrame(predictions, columns=['Predicted_Usage'])\n",
    "    predictions['DayOfWeek'] = predictions.index.day_name()\n",
    "    predictions['HourOfDay'] = predictions.index.hour\n",
    "\n",
    "    if days_of_week:\n",
    "        days_of_week = list(days_of_week)\n",
    "        train = train[train['DayOfWeek'].isin(days_of_week)]\n",
    "        test = test[test['DayOfWeek'].isin(days_of_week)]\n",
    "        predictions = predictions[predictions['DayOfWeek'].isin(days_of_week)]\n",
    "    \n",
    "    if hours_of_day:\n",
    "        hours_of_day = list(hours_of_day)\n",
    "        train = train[train['HourOfDay'].isin(hours_of_day)]\n",
    "        test = test[test['HourOfDay'].isin(hours_of_day)]\n",
    "        predictions = predictions[predictions['HourOfDay'].isin(hours_of_day)]\n",
    "    \n",
    "    if load_type:\n",
    "        load_type = list(load_type)\n",
    "        train = train[train['Load_Type'].isin(load_type)]\n",
    "        test = test[test['Load_Type'].isin(load_type)]\n",
    "        #predictions = predictions[predictions['Load_Type'].isin(load_type)] currently troubleshooting\n",
    "\n",
    "    mse = mean_squared_error(test['Usage_kWh'], predictions['Predicted_Usage'])\n",
    "    mae = mean_absolute_error(test['Usage_kWh'], predictions['Predicted_Usage'])\n",
    "    errors = test['Usage_kWh'] - predictions['Predicted_Usage']\n",
    "    errors_by_hour = errors.groupby(errors.index.hour).mean()\n",
    "    \n",
    "    print(f'Mean Squared Error: {mse}')\n",
    "    print(f'Mean Absolute Error: {mae}')\n",
    "\n",
    "    # calculate and print overall stats across time period\n",
    "    overall_min = data['Usage_kWh'].min()\n",
    "    overall_max = data['Usage_kWh'].max()\n",
    "    overall_mean = data['Usage_kWh'].mean()\n",
    "    overall_sum = data['Usage_kWh'].sum()\n",
    "    \n",
    "    train_min = train['Usage_kWh'].min()\n",
    "    train_max = train['Usage_kWh'].max()\n",
    "    train_mean = train['Usage_kWh'].mean()\n",
    "    train_sum = train['Usage_kWh'].sum()\n",
    "    \n",
    "    test_min = test['Usage_kWh'].min()\n",
    "    test_max = test['Usage_kWh'].max()\n",
    "    test_mean = test['Usage_kWh'].mean()\n",
    "    test_sum = test['Usage_kWh'].sum()\n",
    "    \n",
    "    print(f'Overall Usage_kWh Statistics:')\n",
    "    print(f'Min: {overall_min:.2f}, Max: {overall_max:.2f}, Mean: {overall_mean:.2f}, Sum: {overall_sum:.2f}')\n",
    "    \n",
    "    print(f'\\nTraining Period Usage_kWh Statistics:')\n",
    "    print(f'Min: {train_min:.2f}, Max: {train_max:.2f}, Mean: {train_mean:.2f}, Sum: {train_sum:.2f}')\n",
    "    \n",
    "    print(f'\\nTest Period Usage_kWh Statistics:')\n",
    "    print(f'Min: {test_min:.2f}, Max: {test_max:.2f}, Mean: {test_mean:.2f}, Sum: {test_sum:.2f}')\n",
    "\n",
    "    \n",
    "    # boilerplate\n",
    "    fig, axs = plt.subplots(2, 2, figsize=(15, 10))\n",
    "\n",
    "    axs[0, 0].plot(train['Usage_kWh'], label='Training Data')\n",
    "    axs[0, 0].plot(test['Usage_kWh'], label='Actual Usage')\n",
    "    axs[0, 0].plot(predictions['Predicted_Usage'], label='Predicted Usage', color='red')\n",
    "    axs[0, 0].axhline(overall_min, color='green', linestyle='--', label='Overall Min')\n",
    "    axs[0, 0].axhline(overall_max, color='purple', linestyle='--', label='Overall Max')\n",
    "    axs[0, 0].axhline(overall_mean, color='orange', linestyle='--', label='Overall Mean')\n",
    "    axs[0, 0].legend()\n",
    "    axs[0, 0].set_title('Training, Actual, and Predicted Usage')\n",
    "    axs[0, 0].grid(True)\n",
    "\n",
    "    # forecast period zoom\n",
    "    axs[0, 1].plot(test['Usage_kWh'], label='Actual Usage')\n",
    "    axs[0, 1].plot(predictions['Predicted_Usage'], label='Predicted Usage', color='red')\n",
    "    axs[0, 1].axhline(overall_min, color='green', linestyle='--', label='Overall Min')\n",
    "    axs[0, 1].axhline(overall_max, color='purple', linestyle='--', label='Overall Max')\n",
    "    axs[0, 1].axhline(overall_mean, color='orange', linestyle='--', label='Overall Mean')\n",
    "    axs[0, 1].set_xlabel('Date')\n",
    "    axs[0, 1].set_ylabel('Usage (kWh)')\n",
    "    axs[0, 1].set_title('Actual vs Predicted Usage (Zoomed into Forecast Period)')\n",
    "    axs[0, 1].legend()\n",
    "    axs[0, 1].grid(True)\n",
    "    \n",
    "    #residual by hour\n",
    "    axs[1, 0].plot(errors_by_hour.index.values, errors_by_hour.values, marker='o')\n",
    "    axs[1, 0].set_xlabel('Hour of Day')\n",
    "    axs[1, 0].set_ylabel('Mean Error (kWh)')\n",
    "    axs[1, 0].set_title('Mean Forecast Error by Hour')\n",
    "    axs[1, 0].grid(True)\n",
    "\n",
    "    # heatmap -- originally wanted to do vs hour of day\n",
    "    heatmap_data = train.pivot_table(values='Usage_kWh', index='DayOfWeek', columns='Load_Type', aggfunc='sum', margins=True, margins_name='Total')\n",
    "    sns.heatmap(heatmap_data, annot=True, fmt='.1f', cmap='YlGnBu', ax=axs[1, 1])\n",
    "    axs[1, 1].set_title('Sum of Usage by Day of Week and Load Type - Training Period Only')\n",
    "\n",
    "    plt.tight_layout()\n",
    "    plt.show()\n",
    "\n",
    "#  output\n",
    "interactive_plot = widgets.interactive_output(filter_and_plot, {\n",
    "    'start_training': start_training,\n",
    "    'end_training': end_training,\n",
    "    'start_test': start_test,\n",
    "    'end_test': end_test,\n",
    "    'days_of_week': days_of_week,\n",
    "    'hours_of_day': hours_of_day,\n",
    "    'load_type': load_type\n",
    "})\n",
    "\n",
    "# display the widgets and the output\n",
    "display(start_training, end_training, start_test, end_test, days_of_week, hours_of_day, load_type, run_button, interactive_plot)\n"
   ]
  },
  {
   "cell_type": "code",
   "execution_count": null,
   "id": "230921d6",
   "metadata": {},
   "outputs": [],
   "source": []
  }
 ],
 "metadata": {
  "kernelspec": {
   "display_name": "Python 3",
   "language": "python",
   "name": "python3"
  },
  "language_info": {
   "codemirror_mode": {
    "name": "ipython",
    "version": 3
   },
   "file_extension": ".py",
   "mimetype": "text/x-python",
   "name": "python",
   "nbconvert_exporter": "python",
   "pygments_lexer": "ipython3",
   "version": "3.8.8"
  }
 },
 "nbformat": 4,
 "nbformat_minor": 5
}
